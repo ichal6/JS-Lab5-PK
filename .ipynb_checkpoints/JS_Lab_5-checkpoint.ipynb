{
 "cells": [
  {
   "cell_type": "markdown",
   "metadata": {},
   "source": [
    "# Języki symboliczne - rok akademicki 2021/2022\n",
    "\n",
    "Przed rozpoczęciem pracy z notatnikiem zmień jego nazwę zgodnie z wzorem: `NrAlbumu_Nazwisko_Imie_PoprzedniaNazwa`\n",
    "\n",
    "Przed wysłaniem notatnika upewnij się, że rozwiązałeś wszystkie zadania/ćwiczenia, w szczególności, że uzupełniłeś wszystkie pola `YOUR CODE HERE` oraz `YOUR ANSWER HERE`."
   ]
  },
  {
   "cell_type": "markdown",
   "metadata": {},
   "source": [
    "# Temat: Scheme - wprowadzenie.\n",
    "Zapoznaj się z treścią niniejszego notatnika czytając i wykonując go komórka po komórce. Wykonaj napotkane zadania/ćwiczenia.\n",
    "\n",
    "## Informacje wstępne\n",
    "### Instalacja `Calysto Scheme` dla `Jupyter Notebook` ( z Python3):\n",
    "\n",
    "Uruchomić konsolę `Anaconda Powershell Prompt (anaconda3)`, wpisać poniższe polecenia:\n",
    "\n",
    "```python\n",
    "pip3 install --upgrade calysto-scheme --user\n",
    "python -m calysto_scheme install --user\n",
    "```\n",
    "https://github.com/Calysto/calysto_scheme\n",
    "\n",
    "\n",
    "### Środowisko `DrRacket`:\n",
    "\n",
    "Stąd pobierzesz dystrybucję `DrRacket`: https://racket-lang.org/\n",
    "\n",
    "Uruchomić program „DrRacket” i w pierwszej linii górnego pola umieścić tekst:\n",
    "\n",
    "`#lang planet neil/sicp`\n",
    "\n",
    "### Zaczynamy\n",
    "#### Składnia Scheme-a\n",
    "Program w języku Scheme może zawierać:\n",
    "- słowa kluczowe\n",
    "- zmienne\n",
    "- formy struktury\n",
    "- stałe (liczby, znaki, łańcuchy, cytaty wektorów, list lub symboli itp.)\n",
    "- znaki spacji\n",
    "- komentarze\n",
    "\n",
    "__Identyfikatory__ (słowa kluczowe, etykiety, zmienne i symbole) – konstruowane ze zbioru:\n",
    "- małych liter od `a` do `z` i dużych liter od `A` do `Z`\n",
    "- nie są rozróżniane duże i małe litery (np.: `Ab`, `ab`, `aB`, `AB` są tymi samymi identyfikatorami)\n",
    "- cyfr od `0` do `9`\n",
    "- znaków `?!.+-*/<=>:%^&_~@`\n",
    "\n",
    "Identyfikatory nie mogą zaczynać się od:\n",
    "- znaku `@`\n",
    "- jakiegokolwiek znaku zaczynającego liczbę tzn.: `cyfry`, znak `+`, znak `-`, kropka `.`\n",
    "\n",
    "Wyjątek: `+`,`-`, `...`, są identyfikatorami.\n",
    "\n",
    "Identyfikatory muszą być ograniczone:\n",
    "- znakiem spacji\n",
    "- nawiasami `()`\n",
    "- znakiem podwójnego cytatu `\"`\n",
    "- znakiem komentarza `;`\n",
    "\n",
    "#### Wyrażenia, procedury, funkcje ...\n",
    "\n",
    "Typowe wyrażenie ma następującą składnię:\n",
    "\n",
    "`(procedura argumenty)`\n",
    "\n",
    "- Wyrażenie rozpoczyna się nawiasem otwierającym `(` i kończy nawiasem zamykającym `)`.\n",
    "- W każdym wyrażeniu, bezpośrednio za nawiasem otwierającym,  musi znaleść się procedura (funkcja) - notacja prefiksowa.\n",
    "- Lisp wykonuje każde wyrażenie i zwraca jego wartość. W szczególnym wypadku wartością zwracaną może być `nil` czyli nic.\n",
    "\n",
    "\n",
    "#### Kometarze w kodzie:\n",
    "- pomiędzy znakiem `;` a końcem linii\n",
    "- umieszczane na tym samym poziomie wcięcia co wyrażenie\n",
    "- wyjaśnianie procedur umieszczane przed nimi bez wcięcia"
   ]
  },
  {
   "cell_type": "code",
   "execution_count": 1,
   "metadata": {},
   "outputs": [
    {
     "data": {
      "text/plain": [
       "#t"
      ]
     },
     "execution_count": 1,
     "metadata": {},
     "output_type": "execute_result"
    }
   ],
   "source": [
    "; to jest komentarz jednolinijkowy, interpreter pomija linie zaczynające się od ';'\n",
    "(number? 3/4) ; czy stała 3/4 jest liczbą?"
   ]
  },
  {
   "cell_type": "markdown",
   "metadata": {},
   "source": [
    "#### Wyprowadzanie komunikatów na ekran.\n",
    "`(display ITEM)`: wyświetla `ITEM` na wyjściu\n",
    "\n",
    "`(newline)`: wyświetla nowy wiersz na wyjściu\n",
    "\n",
    "`(print ITEM)`: wyświetla `ITEM` (tak jakby był zapisywany)\n",
    "\n",
    "`(printf FORMAT ARGS...)`: wydruk sformatowany. Używa standardowych symboli formatowania:\n",
    "\n",
    "- `~a` - pokaż jak na ekranie\n",
    "- `~s` - pokaż jakby był zapisywany\n",
    "- `~%` - nowa linia"
   ]
  },
  {
   "cell_type": "code",
   "execution_count": 2,
   "metadata": {},
   "outputs": [
    {
     "name": "stdout",
     "output_type": "stream",
     "text": [
      "Hello\n",
      "World"
     ]
    }
   ],
   "source": [
    "(display \"Hello\") (newline)\n",
    "(display \"World\")"
   ]
  },
  {
   "cell_type": "code",
   "execution_count": 3,
   "metadata": {},
   "outputs": [
    {
     "name": "stdout",
     "output_type": "stream",
     "text": [
      "\"Hello\"\n",
      "\"World\"\n"
     ]
    }
   ],
   "source": [
    "(print \"Hello\") ; w Racket nie dodaje znaku nowej linii\n",
    "(print \"World\")"
   ]
  },
  {
   "cell_type": "code",
   "execution_count": 4,
   "metadata": {},
   "outputs": [
    {
     "name": "stdout",
     "output_type": "stream",
     "text": [
      "Hello \n",
      "World"
     ]
    }
   ],
   "source": [
    "(printf \"Hello ~%World\")"
   ]
  },
  {
   "cell_type": "markdown",
   "metadata": {},
   "source": [
    "#### Definiowanie zmiennych\n",
    "```scheme\n",
    "(define zm wyr)\n",
    "```\n",
    "Deklaruje zmienną `zm` i nadaje jej wartość wyrażenia `wyr`. (Krótko - reszta później:))"
   ]
  },
  {
   "cell_type": "code",
   "execution_count": 5,
   "metadata": {},
   "outputs": [
    {
     "data": {
      "text/plain": [
       "1"
      ]
     },
     "execution_count": 5,
     "metadata": {},
     "output_type": "execute_result"
    }
   ],
   "source": [
    "(define a (+ 0 1))\n",
    "a"
   ]
  },
  {
   "cell_type": "markdown",
   "metadata": {},
   "source": [
    "#### Wczytywanie danych (łańcuchów) z klawiatury.\n",
    "`read`"
   ]
  },
  {
   "cell_type": "code",
   "execution_count": 6,
   "metadata": {},
   "outputs": [
    {
     "name": "stdout",
     "output_type": "stream",
     "text": [
      "asd\n"
     ]
    },
    {
     "data": {
      "text/plain": [
       "\"asd\""
      ]
     },
     "execution_count": 6,
     "metadata": {},
     "output_type": "execute_result"
    }
   ],
   "source": [
    "(define a (read))\n",
    "a"
   ]
  },
  {
   "cell_type": "markdown",
   "metadata": {},
   "source": [
    "#### Konwersja typów.\n",
    "\n",
    "Wybrane procedury:\n",
    "\n",
    "- `(char->integer CHAR)`    - zwróć powiązany numer CHAR\n",
    "- `(char->string CHAR)`     - zwraca znak jako łańcuch\n",
    "- `(list->string LIST)`     - zwraca listę jako łańcuch\n",
    "- `(list->vector LIST)`     - zwraca listę jako wektor\n",
    "- `(number->string NUMBER)` - zwraca numer jako łańcuch\n",
    "- `(string->list STRING)`   - zwraca łańcuch jako listę znaków\n",
    "- `(string->number STRING)` - zwraca łańcuch jako liczbę\n",
    "- `(string->symbol STRING)` - zwraca łańcuch jako symbol\n",
    "- `(symbol->string SYMBOL)` - zwraca symbol jako łańcuch\n",
    "- `(vector->list VECTOR)`   - zwraca wektor jako listę"
   ]
  },
  {
   "cell_type": "code",
   "execution_count": 13,
   "metadata": {},
   "outputs": [
    {
     "name": "stdout",
     "output_type": "stream",
     "text": [
      "123\n",
      "123"
     ]
    }
   ],
   "source": [
    "(define a (read))\n",
    "(string->number a)\n",
    "(display a)"
   ]
  },
  {
   "cell_type": "code",
   "execution_count": 14,
   "metadata": {},
   "outputs": [
    {
     "data": {
      "text/plain": [
       "49"
      ]
     },
     "execution_count": 14,
     "metadata": {},
     "output_type": "execute_result"
    }
   ],
   "source": [
    "(char->integer #\\1)"
   ]
  },
  {
   "cell_type": "markdown",
   "metadata": {},
   "source": [
    "#### Predykaty\n",
    "Sprawdzanie rodzaju argumentów (typów) wewnątrz funkcji . Wybrane predykaty:\n",
    "```scheme\n",
    "    (boolean? a)        ;zwraca #t, jeśli a jest wartością logiczną\t\n",
    "    (char? a)           ;zwraca #t, jeśli a jest znakiem, w przeciwnym razie #f\t\n",
    "    (string? a)         ;zwraca #t, jeśli a jest napisem, w przeciwnym razie #f\t\n",
    "    (number? a)         ;zwraca #t, jeśli a jest liczbą, w przeciwnym razie #f\n",
    "    (pair? a)           ;zwraca #t, jeśli a jest parą (właściwą lub niewłaściwą listą) \n",
    "    (list? a)           ;zwraca #t, jeśli a jest listą, #f w przeciwnym razie\n",
    "    (procedure? a)      ;zwraca #t, jeśli a jest procedurą, w przeciwnym razie #f\n",
    "    (vector? a)         ;zwraca #t, jeśli a jest wektorem, #f w przeciwnym razie\n",
    "    (null? a)           ;zwraca #t, jeśli a jest pustą listą, #f w przeciwnym razie\n",
    "    (zero? LICZBA)      ;zwraca #t, jeśli LICZBA jest równa zero, w przeciwnym razie #f\n",
    "    (odd? LICZBA)       ;zwraca #t, jeśli LICZBA jest parzysta, #f w przeciwnym razie\n",
    "    (even? LICZBA)      ;zwraca #t, jeśli LICZBA jest nieparzysta, #f w przeciwnym razie\n",
    "    ...\n",
    "```"
   ]
  },
  {
   "cell_type": "code",
   "execution_count": 15,
   "metadata": {},
   "outputs": [
    {
     "data": {
      "text/plain": [
       "#f"
      ]
     },
     "execution_count": 15,
     "metadata": {},
     "output_type": "execute_result"
    }
   ],
   "source": [
    "(define a 2)\n",
    "(boolean? a)"
   ]
  },
  {
   "cell_type": "code",
   "execution_count": 16,
   "metadata": {},
   "outputs": [
    {
     "data": {
      "text/plain": [
       "#t"
      ]
     },
     "execution_count": 16,
     "metadata": {},
     "output_type": "execute_result"
    }
   ],
   "source": [
    "(procedure? +)"
   ]
  },
  {
   "cell_type": "code",
   "execution_count": 19,
   "metadata": {},
   "outputs": [
    {
     "data": {
      "text/plain": [
       "#t"
      ]
     },
     "execution_count": 19,
     "metadata": {},
     "output_type": "execute_result"
    }
   ],
   "source": [
    "(symbol? 'a) \n",
    ";(symbol? a) "
   ]
  },
  {
   "cell_type": "markdown",
   "metadata": {},
   "source": [
    "### Podstawowe typy danych\n",
    "\n",
    "#### Typy liczbowe\n",
    " Do typów liczbowych należą liczby całkowite, zmiennoprzecinkowe i zespolone oraz ułamki zwykłe. \n",
    " \n",
    " Liczby są stałymi."
   ]
  },
  {
   "cell_type": "code",
   "execution_count": 20,
   "metadata": {},
   "outputs": [
    {
     "name": "stdout",
     "output_type": "stream",
     "text": [
      "-12\n",
      "-12\n",
      "1/2\n",
      "1.4\n",
      "1e-12\n"
     ]
    },
    {
     "data": {
      "text/plain": [
       "(3+2j)"
      ]
     },
     "execution_count": 20,
     "metadata": {},
     "output_type": "execute_result"
    }
   ],
   "source": [
    "(display -12) (newline)\n",
    "(print -12 1/2 1.4 1e-12) \n",
    "(complex 3 2) ; Calysto Scheme ma dostęp do funkcji Pythona, w DrRacket zapis 3+2i"
   ]
  },
  {
   "cell_type": "markdown",
   "metadata": {},
   "source": [
    "#### Znaki, Łańcuchy \n",
    "\n",
    "- Znaki ropoczynają się od `#\\`, np.: `#\\a` \n",
    "- Łańcuchy umieszczane w cudzysłowach `\"tekst\"`.\n",
    "- Wielkość ma znaczenie dla znaków i łańcuchów."
   ]
  },
  {
   "cell_type": "code",
   "execution_count": 21,
   "metadata": {},
   "outputs": [
    {
     "data": {
      "text/plain": [
       "#\\a"
      ]
     },
     "execution_count": 21,
     "metadata": {},
     "output_type": "execute_result"
    }
   ],
   "source": [
    "(define t #\\a) ; definicja t - zawiara znak\n",
    "t\n",
    ";(char? t)"
   ]
  },
  {
   "cell_type": "code",
   "execution_count": 22,
   "metadata": {},
   "outputs": [
    {
     "data": {
      "text/plain": [
       "\"Hello World\""
      ]
     },
     "execution_count": 22,
     "metadata": {},
     "output_type": "execute_result"
    }
   ],
   "source": [
    "(define T \"Hello World\") ; definicja T - zawiera łańcuch\n",
    "T\n",
    ";(string? T)"
   ]
  },
  {
   "cell_type": "code",
   "execution_count": 23,
   "metadata": {},
   "outputs": [
    {
     "data": {
      "text/plain": [
       "#f"
      ]
     },
     "execution_count": 23,
     "metadata": {},
     "output_type": "execute_result"
    }
   ],
   "source": [
    "(eq? \"a\" t) \n",
    ";(eq? #\\a t)"
   ]
  },
  {
   "cell_type": "markdown",
   "metadata": {},
   "source": [
    "Liczby (stałe) i ciągi znaków są to tzw. atomy."
   ]
  },
  {
   "cell_type": "markdown",
   "metadata": {},
   "source": [
    "#### Wektory\n",
    "\n",
    "- Wektory ropoczynają się od `#`\n",
    "- Możemy je tworzyć przy pomocy procedury `vektor`.\n",
    "- Wektory są indeksowane nieujemnymi liczbami całkowitymi począwszy od `0`;\n",
    "- Elementy wektora mogą być dowolnego typu;\n",
    "- Pojedynczy wektor może zawierać obiekty więcej niż jednego typu;\n",
    "- Wektor jest zapisywany jako sekwencja obiektów oddzielonych białymi znakami, poprzedzonych prefiksem `#()`.\n",
    "\n",
    "Wybrane procedury dla wektorów:\n",
    "- `(make-vector LENGTH)` zwraca wektor o długości `LENGTH`\n",
    "- `(vector [ITEMS]...)` zwraca `ITEMS` jako wektor;\n",
    "- `(vector->list VECTOR)` zwraca wektor jako listę\n",
    "- `(vector-length VECTOR)` zwraca długość wektora\n",
    "- `(vector-ref VECTOR INDEX)` zwraca element o podanym indeksie\n",
    "- `(vector-set! VECTOR INDEX VALUE)` ustawia nową wartość `VALUE` na pozycji `INDEX` \n",
    "- `(vector? ITEM)` zwraca `#t` jeżeli `ITEM` jest w wektorze, `#f` w przeciwnym przypadku\n"
   ]
  },
  {
   "cell_type": "code",
   "execution_count": 24,
   "metadata": {},
   "outputs": [
    {
     "data": {
      "text/plain": [
       "#4(a vector of symbols)"
      ]
     },
     "execution_count": 24,
     "metadata": {},
     "output_type": "execute_result"
    }
   ],
   "source": [
    "#(a vector of symbols)"
   ]
  },
  {
   "cell_type": "code",
   "execution_count": 25,
   "metadata": {},
   "outputs": [
    {
     "data": {
      "text/plain": [
       "#t"
      ]
     },
     "execution_count": 25,
     "metadata": {},
     "output_type": "execute_result"
    }
   ],
   "source": [
    "(define w #(a vector of symbols))\n",
    "(vector? w)"
   ]
  },
  {
   "cell_type": "code",
   "execution_count": 26,
   "metadata": {},
   "outputs": [
    {
     "data": {
      "text/plain": [
       "#3(1 2 6)"
      ]
     },
     "execution_count": 26,
     "metadata": {},
     "output_type": "execute_result"
    }
   ],
   "source": [
    "(vector 1 2 (+ 3 3))"
   ]
  },
  {
   "cell_type": "code",
   "execution_count": 27,
   "metadata": {},
   "outputs": [
    {
     "data": {
      "text/plain": [
       "3"
      ]
     },
     "execution_count": 27,
     "metadata": {},
     "output_type": "execute_result"
    }
   ],
   "source": [
    "(vector-ref #(1 2 3) 2)"
   ]
  },
  {
   "cell_type": "markdown",
   "metadata": {},
   "source": [
    "#### Listy\n",
    " \n",
    "- podstawowy typ danych\n",
    "- sekwencja obiektów (par) otoczona nawiasami `( ... )`\n",
    "- elementami list są pary\n",
    "- pierwszy element\tpary jest wskaźnikiem do atomu lub\tlisty\t\n",
    "- drugi\telement\tpary jest wskaźnikiem do innego\telementu lub wskaźnikiem do\tlisty pustej `()`\n",
    "- elementy list\tsą łączone za pomocą drugiego elementu pary\t\n",
    "\n",
    "__Notacja klasyczna__\n",
    "\n",
    "```scheme\n",
    "    (a b c d)\n",
    "```\n",
    "\n",
    "\n",
    "__Notacja \"kropkowa\"__\n",
    "\n",
    "```scheme\n",
    "(a . (b . (c . (d . ()))))\n",
    "```\n",
    "\n",
    "Para (struktura danych) postaci `(x . y)` to niewłaściwa/niepełna/ lista (nie kończy się elementem `nil`, `()`). Każdą listę można przedstawić jako zagnieżdżone pary w notacji kropkowej. Element znajdujący się przed kropka (w notacji kropkowej)\n",
    "nazywamy `CAR`, element znajdujący się po kropce nazywamy `CDR`.\n",
    "\n",
    "Para (niewłaściwa lista) w pamięci występuje jako pojedynczy `cons`, np.: `(cons 'a 'b)` tworzy parę `(a . b)`.\n",
    "\n",
    "__Lista właściwa__\n",
    "- `cdr` z ostatniej pary w liście jest listą pustą\n",
    "- lista pusta jest listą właściwą\n",
    "- każda para, dla której ogon jest listą właściwą to również jest to lista właściwa\n",
    "\n",
    "__Lista niewłaściwa__\n",
    "- drukowana w notacji kropkowane-pary, np. `(cons 'a '(b . c))` tworzy `(a b . c)`"
   ]
  },
  {
   "cell_type": "code",
   "execution_count": 28,
   "metadata": {},
   "outputs": [],
   "source": [
    "(define a 1) (define b 2) (define c 3) (define d 4)"
   ]
  },
  {
   "cell_type": "code",
   "execution_count": 29,
   "metadata": {},
   "outputs": [
    {
     "name": "stderr",
     "output_type": "stream",
     "text": [
      "\u001b[1;31m\n",
      "Traceback (most recent call last):\n",
      "  File \"In [29]\", line 1, col 1, in 'a'\n",
      "  File \"In [29]\", line 1, col 1\n",
      "RunTimeError: attempt to apply non-procedure '1'\n",
      "\n",
      "\u001b[0m"
     ]
    }
   ],
   "source": [
    "(a b c d) ; błąd"
   ]
  },
  {
   "cell_type": "markdown",
   "metadata": {},
   "source": [
    "__Jak rozróżnić listę obiektów od procedury?__\n",
    "\n",
    "Musimy wyraźnie podpowiedzieć systemowi, że będziemy traktować listę jako strukturę danych, a nie jako aplikację procedury.\n",
    "\n",
    "Wymuszenie cytowania za pomocą `quote`. Może być również zapisany jako pojedynczy cudzysłów `'`. \n",
    "\n",
    "`quote`:\n",
    "- zatrzymuje ocenę wyrażenia\n",
    "- umożliwa rozróżnianie pomiędzy kodem i danymi.\n",
    "\n",
    "__Uwaga__. Cytując identyfikator Scheme traktuje identyfikator jako symbol a nie zmienną."
   ]
  },
  {
   "cell_type": "code",
   "execution_count": 30,
   "metadata": {},
   "outputs": [
    {
     "data": {
      "text/plain": [
       "(a b c d)"
      ]
     },
     "execution_count": 30,
     "metadata": {},
     "output_type": "execute_result"
    }
   ],
   "source": [
    "(quote (a b c d))"
   ]
  },
  {
   "cell_type": "code",
   "execution_count": 31,
   "metadata": {},
   "outputs": [
    {
     "data": {
      "text/plain": [
       "(a b c d)"
      ]
     },
     "execution_count": 31,
     "metadata": {},
     "output_type": "execute_result"
    }
   ],
   "source": [
    "'(a b c d)"
   ]
  },
  {
   "cell_type": "code",
   "execution_count": 32,
   "metadata": {},
   "outputs": [
    {
     "data": {
      "text/plain": [
       "(a b c d)"
      ]
     },
     "execution_count": 32,
     "metadata": {},
     "output_type": "execute_result"
    }
   ],
   "source": [
    "'(a . (b . (c . (d . ()))))"
   ]
  },
  {
   "cell_type": "markdown",
   "metadata": {},
   "source": [
    "__Procedury Scheme-a do manipulacji listami__\n",
    "\n",
    "- `car` (pierwszy element listy - głowa)\n",
    "- `cdr` (reszta listy - ogon)\n",
    "\n",
    "Procedury te wymagą niepustej listy jako argumentu."
   ]
  },
  {
   "cell_type": "code",
   "execution_count": 33,
   "metadata": {},
   "outputs": [
    {
     "data": {
      "text/plain": [
       "a"
      ]
     },
     "execution_count": 33,
     "metadata": {},
     "output_type": "execute_result"
    }
   ],
   "source": [
    "(car '(a b c d))"
   ]
  },
  {
   "cell_type": "code",
   "execution_count": 34,
   "metadata": {},
   "outputs": [
    {
     "data": {
      "text/plain": [
       "(b c d)"
      ]
     },
     "execution_count": 34,
     "metadata": {},
     "output_type": "execute_result"
    }
   ],
   "source": [
    "(cdr '(a b c d))"
   ]
  },
  {
   "cell_type": "code",
   "execution_count": 35,
   "metadata": {},
   "outputs": [
    {
     "data": {
      "text/plain": [
       "(c d)"
      ]
     },
     "execution_count": 35,
     "metadata": {},
     "output_type": "execute_result"
    }
   ],
   "source": [
    "(cdr (cdr '(a b c d))) ; to samo (cddr '(a b c d))"
   ]
  },
  {
   "cell_type": "code",
   "execution_count": 36,
   "metadata": {},
   "outputs": [
    {
     "data": {
      "text/plain": [
       "()"
      ]
     },
     "execution_count": 36,
     "metadata": {},
     "output_type": "execute_result"
    }
   ],
   "source": [
    "(cdr (cdr '((a b) (c d)))); lista zagnieżdżona"
   ]
  },
  {
   "cell_type": "markdown",
   "metadata": {},
   "source": [
    "Złożenia operacji `car` i `cdr`.\n",
    "\n",
    "Skróty wyrażeń `cadr` i `cddr` są kompozycją (złożeniem) funkcji\n",
    "- `car` z `cdr`, np: `(cadr list)` to jest to samo co `(car (cdr list))`\n",
    "- `cdr` z `cdr`, np: `(cddr list)` to jest to samo co `(cdr (cdr list))`\n",
    "\n",
    "Implementacje jezyka Lisp na ogół gwarantują wystepowanie takich skrótów do 4 poziomów zagnieżdżeń (np: `caaaar`).\n"
   ]
  },
  {
   "cell_type": "code",
   "execution_count": 37,
   "metadata": {},
   "outputs": [
    {
     "data": {
      "text/plain": [
       "(hello there)"
      ]
     },
     "execution_count": 37,
     "metadata": {},
     "output_type": "execute_result"
    }
   ],
   "source": [
    "(caaaar '(((((hello there) this is a test) what is this) \n",
    "           (((1 2 3) 4 5 6) 7 8 9) another item) ((in)) (the) list))"
   ]
  },
  {
   "cell_type": "code",
   "execution_count": 38,
   "metadata": {},
   "outputs": [
    {
     "data": {
      "text/plain": [
       "()"
      ]
     },
     "execution_count": 38,
     "metadata": {},
     "output_type": "execute_result"
    }
   ],
   "source": [
    "(cddddr '(((((hello there) this is a test) what is this) \n",
    "           (((1 2 3) 4 5 6) 7 8 9) another item) ((in)) (the) list))"
   ]
  },
  {
   "cell_type": "markdown",
   "metadata": {},
   "source": [
    "### Ćwiczenie 1\n",
    "\n",
    "Sprawdź efekt działania operacji złożonych: od `cxr` do `cxxxxr`."
   ]
  },
  {
   "cell_type": "code",
   "execution_count": 22,
   "metadata": {},
   "outputs": [
    {
     "data": {
      "text/plain": [
       "(i)"
      ]
     },
     "execution_count": 22,
     "metadata": {},
     "output_type": "execute_result"
    }
   ],
   "source": [
    "(car '(((((a aa) b bb bbb bbb) c cc ccc)\n",
    "        (((d dd ddd) e ee eee) f ff fff) g gg) ((h)) (i) j))\n",
    "\n",
    ";;; BEGIN SOLUTION\n",
    "(caddr '(((((a aa) b bb bbb bbb) c cc ccc)\n",
    "        (((d dd ddd) e ee eee) f ff fff) g gg) ((h)) (i) j))\n",
    "\n",
    "(cadaar '(((((a aa) b bb bbb bbb) c cc ccc)\n",
    "        (((d dd ddd) e ee eee) f ff fff) g gg) ((h)) (i) j))\n",
    ";;; END SOLUTION"
   ]
  },
  {
   "cell_type": "markdown",
   "metadata": {},
   "source": [
    "__Procedury Scheme-a do manipulacji listami:  `cons`__\n",
    "\n",
    "Procedura do konstruowania listy – `cons`:\n",
    "\n",
    "```scheme\n",
    "(cons 'a '(b c d))\n",
    "```\n",
    "- wymaga dwóch argumentów\n",
    "- dodaje element na początek listy\n",
    "- określane jako połącz elementy w listę\n",
    "- procedura `cons` tworzy parę\n",
    "\n",
    "\n",
    "Procedura `list`:\n",
    "```scheme\n",
    "(list 'a 'b 'c 'd)\n",
    "```\n",
    "- zwraca listę złożoną ze wszystkich pozycji"
   ]
  },
  {
   "cell_type": "code",
   "execution_count": 39,
   "metadata": {},
   "outputs": [
    {
     "data": {
      "text/plain": [
       "(a b c d)"
      ]
     },
     "execution_count": 39,
     "metadata": {},
     "output_type": "execute_result"
    }
   ],
   "source": [
    "(cons 'a '(b c d))"
   ]
  },
  {
   "cell_type": "code",
   "execution_count": 40,
   "metadata": {},
   "outputs": [
    {
     "data": {
      "text/plain": [
       "(a)"
      ]
     },
     "execution_count": 40,
     "metadata": {},
     "output_type": "execute_result"
    }
   ],
   "source": [
    "(cons 'a ()) ; lista właściwa jedno elementowa"
   ]
  },
  {
   "cell_type": "code",
   "execution_count": 41,
   "metadata": {},
   "outputs": [
    {
     "data": {
      "text/plain": [
       "(1 2 3 4)"
      ]
     },
     "execution_count": 41,
     "metadata": {},
     "output_type": "execute_result"
    }
   ],
   "source": [
    "(define x (cons '1 '(2 3 4))) ; x - lista właściwa\n",
    "x"
   ]
  },
  {
   "cell_type": "code",
   "execution_count": 42,
   "metadata": {},
   "outputs": [
    {
     "data": {
      "text/plain": [
       "(A . B)"
      ]
     },
     "execution_count": 42,
     "metadata": {},
     "output_type": "execute_result"
    }
   ],
   "source": [
    "(define C (cons 'A 'B))  ; C para - lista niewłaściwa\n",
    "C"
   ]
  },
  {
   "cell_type": "code",
   "execution_count": 43,
   "metadata": {},
   "outputs": [
    {
     "data": {
      "text/plain": [
       "(a b c d)"
      ]
     },
     "execution_count": 43,
     "metadata": {},
     "output_type": "execute_result"
    }
   ],
   "source": [
    "(list 'a 'b 'c 'd) ; to samo (cons 'a (cons 'b (cons 'c (cons 'd ()) )))"
   ]
  },
  {
   "cell_type": "code",
   "execution_count": 44,
   "metadata": {},
   "outputs": [
    {
     "data": {
      "text/plain": [
       "(1 2 3 4)"
      ]
     },
     "execution_count": 44,
     "metadata": {},
     "output_type": "execute_result"
    }
   ],
   "source": [
    "(list a b c d)"
   ]
  },
  {
   "cell_type": "code",
   "execution_count": 45,
   "metadata": {},
   "outputs": [
    {
     "data": {
      "text/plain": [
       "()"
      ]
     },
     "execution_count": 45,
     "metadata": {},
     "output_type": "execute_result"
    }
   ],
   "source": [
    "(list) ; lista pusta"
   ]
  },
  {
   "cell_type": "markdown",
   "metadata": {},
   "source": [
    "__Procedury Scheme-a do manipulacji listami:  `append`__\n",
    "\n",
    "Sklejanie list (konkatenacja) w jedną. "
   ]
  },
  {
   "cell_type": "code",
   "execution_count": 46,
   "metadata": {},
   "outputs": [
    {
     "data": {
      "text/plain": [
       "(1 2 3 4 5 6 7)"
      ]
     },
     "execution_count": 46,
     "metadata": {},
     "output_type": "execute_result"
    }
   ],
   "source": [
    "(append '(1 2 3) '(4 5) '(6 7))"
   ]
  },
  {
   "cell_type": "markdown",
   "metadata": {},
   "source": [
    "__Procedury Scheme-a do manipulacji listami:  `eval`__\n",
    "\n",
    "Ocenia (oblicza) listę jako wyrażenie. \n",
    "\n",
    "`eval` to funkcja\tobliczania\twszystkiego (interpreter LISPa)."
   ]
  },
  {
   "cell_type": "code",
   "execution_count": 47,
   "metadata": {},
   "outputs": [
    {
     "data": {
      "text/plain": [
       "2"
      ]
     },
     "execution_count": 47,
     "metadata": {},
     "output_type": "execute_result"
    }
   ],
   "source": [
    "(eval '(+ 1 1))"
   ]
  },
  {
   "cell_type": "markdown",
   "metadata": {},
   "source": [
    "__Procedury Scheme-a: instrukcja warunkowa `cond`__\n",
    "\n",
    "Ogólna postać wyrażeń warunkowych `cond` w Lisp-e:\n",
    "```scheme\n",
    "(cond (<p1> <e1>) (<p2> <e2>) ...  (<pn> <en>))\n",
    "\n",
    "```\n",
    "- Wyrażenie warunkowe składa się z symbolu `cond`, po którym następuje sekwencja par wyrażeń `(<p> <e>)` ujętych w nawiasy i nazywanych klauzulami\n",
    "- Pierwsze wyrażenie każdej z par to predykat (ang. predicate) - wyrażenie którego wartość jest interpretowana jako `prawda` albo `fałsz`. Drugie wyrażenie to następnik klauzuli `<e>`.\n",
    "- Najpierw obliczana jest wartość predykatu `<p1>`, jeśli wartość jest `fałszem` to obliczana jest wartość `<p2>`, jeśli `<p2>` jest `fałszem` to obliczamy `<p3>` itd. aż do znalezienia predykatu którego wartość jest `prawdą`. Wówczas interpreter  przyjmuje wartość odpowiadającego temu predykatowi następnika klauzuli `<e>` jako wartość całego wyrażenia warunkowego. \n",
    "- Jeśli wartość żadnego z predykatów `<p`> nie jest prawdą, to wartość wyrażenia warunkowego jest nieokreślona.\n",
    "\n",
    "Symbol specjalny - `else`:\n",
    "```scheme\n",
    "(cond (<p1> <e1>) (<p2> <e2>) ...  (else <e>))\n",
    "\n",
    "```\n",
    "\n",
    "- `else` można używać w miejsce `<p>` w ostatniej klauzuli wyrażenia warunkowego `cond`, jeśli wszystkie poprzedzające klauzule zostaną pominięte to wartością `cond` jest wartość odpowiadającego mu wyrażenia `<e>`\n",
    "\n",
    "\n",
    "\n",
    "Forma specjalna `if`.\n",
    "\n",
    "Ograniczona forma wyrażenia warunkowego `cond` z której korzystamy mając do rozpatrzenia tylko dwa przypadki.\n",
    "```scheme\n",
    "(if <predykat> <następnik> <alternatywa>)\n",
    "```\n",
    "- jeśli obliczony jako pierwszy `<predykat>` ma wartość `prawda`, to interpreter jako wartość całego wyrażenia oblicza wartość `<następnika>`, w przeciwnym razie jako wartość wyrażenia obliczana jest wartość `<alternatywy>`.\n",
    "- `if` jest formą składniową – nie procedurą"
   ]
  },
  {
   "cell_type": "code",
   "execution_count": 48,
   "metadata": {},
   "outputs": [
    {
     "name": "stdout",
     "output_type": "stream",
     "text": [
      "1\n",
      "2\n",
      "3\n"
     ]
    },
    {
     "data": {
      "text/plain": [
       "trzy"
      ]
     },
     "execution_count": 48,
     "metadata": {},
     "output_type": "execute_result"
    }
   ],
   "source": [
    "(print a b c)\n",
    "(cond ((eq? a -1) '-jeden)\n",
    "      ((eq? b -2 ) '-dwa)\n",
    "      ((eq? c 3) 'trzy))"
   ]
  },
  {
   "cell_type": "code",
   "execution_count": 49,
   "metadata": {},
   "outputs": [
    {
     "data": {
      "text/plain": [
       "3"
      ]
     },
     "execution_count": 49,
     "metadata": {},
     "output_type": "execute_result"
    }
   ],
   "source": [
    "(cond ((eq? a -1) '-jeden)\n",
    "      ((eq? b -2 ) '-dwa)\n",
    "      (else  3))"
   ]
  },
  {
   "cell_type": "code",
   "execution_count": 50,
   "metadata": {},
   "outputs": [
    {
     "data": {
      "text/plain": [
       "inny"
      ]
     },
     "execution_count": 50,
     "metadata": {},
     "output_type": "execute_result"
    }
   ],
   "source": [
    "(if (eq? a -1) '-jeden 'inny)"
   ]
  },
  {
   "cell_type": "markdown",
   "metadata": {},
   "source": [
    "### Podstawowe operatory (procedury)\n",
    "\n",
    "#### Operatory arytmetyczne\n",
    " \n",
    " `+`, `-` , `*`, `/`\n",
    " \n",
    " `(quotient arg0 arg1)` - wynik dzielenia liczb całkowitych\n",
    " \n",
    " `(modulo arg0 arg1)` - reszta z dzielenia liczb całkowitych\n",
    " \n",
    " #### Operatory porównań\n",
    " \n",
    " Wartości logiczne reprezentowane przez identyfikatory `#t`  i  `#f`\n",
    " \n",
    " `=`, `<`, `<=`, `>`, `>=`\n",
    " \n",
    " #### Operatory logiczne\n",
    " \n",
    " `and`, `or`, `not`\n",
    " \n",
    " #### Porównywanie argumentów\n",
    " \n",
    "- `eq?`      – `#t` jeśli są identyczne\n",
    "- `eqv?`     – `#t` jeśli są ekwiwalentne operacyjnie (równoważne)\n",
    "- `equal?`   – `#t` jeśli mają tą samą strukture i zawartość\n",
    "\n",
    "\n",
    "   - Równość dwóch zmiennych sprawdzamy predykatem `eq?`\n",
    "   - Dwie zmienne są równe jeśli są tą samą liczbą, tym samym symbolem lub wskazują na tę samą parę (listę).\n",
    "   - Dwie listy o takich samych elementach zostaną wzięte za różne jeśli powstały niezależnie od siebie (czyli jedna z nich nie przyjęła wartości przez podstawienie drugiej).\n",
    "\n",
    "Przykłady:"
   ]
  },
  {
   "cell_type": "code",
   "execution_count": 51,
   "metadata": {},
   "outputs": [
    {
     "data": {
      "text/plain": [
       "-1.0"
      ]
     },
     "execution_count": 51,
     "metadata": {},
     "output_type": "execute_result"
    }
   ],
   "source": [
    "(+ 2 1/5 -3.2)"
   ]
  },
  {
   "cell_type": "code",
   "execution_count": 52,
   "metadata": {},
   "outputs": [
    {
     "data": {
      "text/plain": [
       "-1.4000000000000001"
      ]
     },
     "execution_count": 52,
     "metadata": {},
     "output_type": "execute_result"
    }
   ],
   "source": [
    "(- 2 1/5 3.2)"
   ]
  },
  {
   "cell_type": "code",
   "execution_count": 53,
   "metadata": {},
   "outputs": [
    {
     "data": {
      "text/plain": [
       "1.2800000000000002"
      ]
     },
     "execution_count": 53,
     "metadata": {},
     "output_type": "execute_result"
    }
   ],
   "source": [
    "(* 2 1/5 3.2)"
   ]
  },
  {
   "cell_type": "code",
   "execution_count": 54,
   "metadata": {},
   "outputs": [
    {
     "data": {
      "text/plain": [
       "-2"
      ]
     },
     "execution_count": 54,
     "metadata": {},
     "output_type": "execute_result"
    }
   ],
   "source": [
    "(/ 2 1/2 -2)"
   ]
  },
  {
   "cell_type": "code",
   "execution_count": 55,
   "metadata": {},
   "outputs": [
    {
     "data": {
      "text/plain": [
       "3"
      ]
     },
     "execution_count": 55,
     "metadata": {},
     "output_type": "execute_result"
    }
   ],
   "source": [
    "(quotient 7 2)"
   ]
  },
  {
   "cell_type": "markdown",
   "metadata": {},
   "source": [
    "Procedury zagnieżdzone."
   ]
  },
  {
   "cell_type": "code",
   "execution_count": 56,
   "metadata": {},
   "outputs": [
    {
     "data": {
      "text/plain": [
       "10"
      ]
     },
     "execution_count": 56,
     "metadata": {},
     "output_type": "execute_result"
    }
   ],
   "source": [
    "(+ (+ 1 2) (+ 3 4))"
   ]
  },
  {
   "cell_type": "code",
   "execution_count": 57,
   "metadata": {},
   "outputs": [
    {
     "data": {
      "text/plain": [
       "4"
      ]
     },
     "execution_count": 57,
     "metadata": {},
     "output_type": "execute_result"
    }
   ],
   "source": [
    "(* 4 (/ 2 (+ 2 (- 2 2))))"
   ]
  },
  {
   "cell_type": "code",
   "execution_count": 58,
   "metadata": {},
   "outputs": [
    {
     "data": {
      "text/plain": [
       "#t"
      ]
     },
     "execution_count": 58,
     "metadata": {},
     "output_type": "execute_result"
    }
   ],
   "source": [
    "(> 3 2) ;Operatory porównań"
   ]
  },
  {
   "cell_type": "code",
   "execution_count": 59,
   "metadata": {},
   "outputs": [
    {
     "data": {
      "text/plain": [
       "#f"
      ]
     },
     "execution_count": 59,
     "metadata": {},
     "output_type": "execute_result"
    }
   ],
   "source": [
    "(= 2 3) ;Operatory porównań"
   ]
  },
  {
   "cell_type": "code",
   "execution_count": 60,
   "metadata": {},
   "outputs": [
    {
     "data": {
      "text/plain": [
       "#f"
      ]
     },
     "execution_count": 60,
     "metadata": {},
     "output_type": "execute_result"
    }
   ],
   "source": [
    "(not (and (> 3 2) \n",
    "          (< 2 3))) ;Operatory logiczne"
   ]
  },
  {
   "cell_type": "code",
   "execution_count": 63,
   "metadata": {},
   "outputs": [
    {
     "data": {
      "text/plain": [
       "#f"
      ]
     },
     "execution_count": 63,
     "metadata": {},
     "output_type": "execute_result"
    }
   ],
   "source": [
    "(eqv? '(1 2) '(1 2)) ; czy są ekwiwalentne operacyjnie\n",
    ";(define x a) (eqv? a x)"
   ]
  },
  {
   "cell_type": "code",
   "execution_count": 64,
   "metadata": {},
   "outputs": [
    {
     "data": {
      "text/plain": [
       "#t"
      ]
     },
     "execution_count": 64,
     "metadata": {},
     "output_type": "execute_result"
    }
   ],
   "source": [
    "(equal? '(1 2) '(1 2)) ; czy mają tą samą strukture i zawartość"
   ]
  },
  {
   "cell_type": "markdown",
   "metadata": {},
   "source": [
    "### Funkcje przekształceń\n",
    "\n",
    "- Funkcje kończące się znakiem `!` modyfikują wartości swoich argumentów. \n",
    "- Zmienna (argument) musi być zadeklarowana.\n",
    "- Wybrane funkcje przekształceń:\n",
    "    ```scheme\n",
    "        (set! zm war)           ; przypisz zmiennej zm wartość war\n",
    "        (set-car! LIST ITEM)    ; zamień pierwszy element w liście LIST na ITEM - tylko w jądrze jupyter\n",
    "        (set-cdr! LIST ITEM)    ; zamień \"ogon\" w liście LIST na ITEM - tylko w jądrze jupyter\n",
    "    ```"
   ]
  },
  {
   "cell_type": "code",
   "execution_count": 65,
   "metadata": {},
   "outputs": [
    {
     "data": {
      "text/plain": [
       "13"
      ]
     },
     "execution_count": 65,
     "metadata": {},
     "output_type": "execute_result"
    }
   ],
   "source": [
    "(define x 12)\n",
    "(set! x 13)\n",
    "x"
   ]
  },
  {
   "cell_type": "code",
   "execution_count": 66,
   "metadata": {},
   "outputs": [
    {
     "data": {
      "text/plain": [
       "(7 2 3)"
      ]
     },
     "execution_count": 66,
     "metadata": {},
     "output_type": "execute_result"
    }
   ],
   "source": [
    "(define a '(1 2 3))\n",
    "(set-car! a 7)\n",
    "a"
   ]
  },
  {
   "cell_type": "code",
   "execution_count": 67,
   "metadata": {},
   "outputs": [
    {
     "data": {
      "text/plain": [
       "(1 4 5 6)"
      ]
     },
     "execution_count": 67,
     "metadata": {},
     "output_type": "execute_result"
    }
   ],
   "source": [
    "(define a '(1 2 3))\n",
    "(set-cdr! a '(4 5 6))\n",
    "a"
   ]
  },
  {
   "cell_type": "markdown",
   "metadata": {},
   "source": [
    "### Deklarowanie zmiennych lokalnych: `let`\n",
    "\n",
    "```scheme\n",
    "    (let ((zm_1 wyr_1) ... (zm_n wyr_n)) wyrazenie) \n",
    "```\n",
    "\n",
    "- ustawia wartość zmiennych `(zm_1, ... , zm_n`) na wyniki odpowiadających im wyrażeń `(wyr_1, ... , wyr_n)` i wylicza na ich podstawie wartość wyrażenia `wyrazenie`. \n",
    "- Zmienne nie są dostępne poza obrębem `let`. \n",
    "- Jeśli zmienne te istnieją, to zostaną przesłonięte (aby tego uniknąć należy wybrać inne nazwy dla zmiennych).\n",
    "- `let` można zagnieżdżać.\n",
    "\n",
    "*wikipedia"
   ]
  },
  {
   "cell_type": "code",
   "execution_count": 68,
   "metadata": {},
   "outputs": [
    {
     "data": {
      "text/plain": [
       "8"
      ]
     },
     "execution_count": 68,
     "metadata": {},
     "output_type": "execute_result"
    }
   ],
   "source": [
    "(define x 10)\n",
    "(let ((x 5)) ; przesłania x\n",
    "  (+ 3 x))"
   ]
  },
  {
   "cell_type": "code",
   "execution_count": 69,
   "metadata": {},
   "outputs": [
    {
     "data": {
      "text/plain": [
       "12"
      ]
     },
     "execution_count": 69,
     "metadata": {},
     "output_type": "execute_result"
    }
   ],
   "source": [
    "(let ((+ *)); przesłania procedurę +\n",
    "  (+ 3 4))"
   ]
  },
  {
   "cell_type": "code",
   "execution_count": 70,
   "metadata": {},
   "outputs": [
    {
     "data": {
      "text/plain": [
       "-24"
      ]
     },
     "execution_count": 70,
     "metadata": {},
     "output_type": "execute_result"
    }
   ],
   "source": [
    "(let ((x (+ 3 5))\n",
    "      (y (- 4 7)))\n",
    "  (* x y))"
   ]
  },
  {
   "cell_type": "code",
   "execution_count": 71,
   "metadata": {},
   "outputs": [
    {
     "data": {
      "text/plain": [
       "4"
      ]
     },
     "execution_count": 71,
     "metadata": {},
     "output_type": "execute_result"
    }
   ],
   "source": [
    "(let ((x 1))\n",
    "  (let ((x (+ x 1))) ; zagnieżdżone let - przesłania x\n",
    "    (+ x x)))  "
   ]
  },
  {
   "cell_type": "code",
   "execution_count": 72,
   "metadata": {},
   "outputs": [
    {
     "data": {
      "text/plain": [
       "4"
      ]
     },
     "execution_count": 72,
     "metadata": {},
     "output_type": "execute_result"
    }
   ],
   "source": [
    "(let ((x 1))\n",
    "  (let ((new-x (+ x 1))) ;aby uniknąć przesłaniania należy wybrać inne nazwy dla zmiennych\n",
    "    (+ new-x new-x)))"
   ]
  },
  {
   "cell_type": "markdown",
   "metadata": {},
   "source": [
    "#### Deklarowanie zmiennych lokalnych - przypisywanie w kolejności\n",
    "\n",
    "```scheme\n",
    "    (let* ((zm_1 wyr_1) ... (zm_n wyr_n)) wyrazenie) \n",
    "```\n",
    " - Znaczenie podobne do `let`, jednak przy wyliczaniu wartości wyrażeń `wyr_2, ...wyr_n` brane są pod uwagę wartości wcześniej ustawione `let`-em\n",
    "\n",
    "*wikipedia"
   ]
  },
  {
   "cell_type": "code",
   "execution_count": 73,
   "metadata": {},
   "outputs": [
    {
     "data": {
      "text/plain": [
       "1"
      ]
     },
     "execution_count": 73,
     "metadata": {},
     "output_type": "execute_result"
    }
   ],
   "source": [
    "(let* ((a 1) (b a))\n",
    "  b)"
   ]
  },
  {
   "cell_type": "markdown",
   "metadata": {},
   "source": [
    "###  Funkcje: wyrażenie `lambda` \n",
    "\n",
    "(Krótko - reszta później:))\n",
    "\n",
    "```scheme\n",
    "    (lambda (lista argumentów) (ciało funkcji)) \n",
    "```\n",
    "- `lambda` tworzy nową procedurę\n",
    "- używane przy definicji funkcji\n",
    "- może być zagnieżdżane wewnątrz wyrażeń `lambda` i `let`\n",
    "- procedury są obiektami, można określać je jako wartości zmiennych i wywoływać więciej niż jeden raz"
   ]
  },
  {
   "cell_type": "code",
   "execution_count": 74,
   "metadata": {},
   "outputs": [
    {
     "data": {
      "text/plain": [
       "#<procedure>"
      ]
     },
     "execution_count": 74,
     "metadata": {},
     "output_type": "execute_result"
    }
   ],
   "source": [
    "(lambda (x) (+ x x)) ;tworzy nową procedurę"
   ]
  },
  {
   "cell_type": "code",
   "execution_count": 75,
   "metadata": {},
   "outputs": [
    {
     "data": {
      "text/plain": [
       "12"
      ]
     },
     "execution_count": 75,
     "metadata": {},
     "output_type": "execute_result"
    }
   ],
   "source": [
    "((lambda (x) (+ x x)) (* 2 3))"
   ]
  },
  {
   "cell_type": "code",
   "execution_count": 76,
   "metadata": {},
   "outputs": [
    {
     "data": {
      "text/plain": [
       "(12 1 -10)"
      ]
     },
     "execution_count": 76,
     "metadata": {},
     "output_type": "execute_result"
    }
   ],
   "source": [
    "(let ((doubler (lambda (x) (+ x x)))) ; doubler procedura dostępna w zasięgu let\n",
    "  (list (doubler (* 2 3)) \n",
    "        (doubler (/ 2 4)) \n",
    "        (doubler (- 2 7))))"
   ]
  },
  {
   "cell_type": "markdown",
   "metadata": {},
   "source": [
    "###  Definiowanie funkcji: `define` \n",
    "\n",
    "(Bardzo krótko - reszta później:) )\n",
    "\n",
    "```scheme\n",
    "       (define procedura \n",
    "          (lambda (lista_argumentów) \n",
    "            (ciało_funkcji)))  \n",
    "```\n",
    "\n",
    "- pozwala definiować obiekt lub procedurę, widoczną w dowolnym miejscu\n",
    "- definicje wyższego poziomu są widoczne w każdym wyrażeniu poza wyrażeniami, które zostały przykryte innymi przypisaniami\n",
    "\n",
    "Możliwy jest zapis skrócony (bez `lambda`):\n",
    "\n",
    "```scheme\n",
    "       (define (procedura lista_argumentów) \n",
    "            (ciało funkcji))  \n",
    "```\n"
   ]
  },
  {
   "cell_type": "code",
   "execution_count": 77,
   "metadata": {},
   "outputs": [],
   "source": [
    "(define switch (lambda (x a b c)\n",
    "                 (cond ((< x 0) a)\n",
    "                       ((= x 0) b)\n",
    "                       ((> x 0) c)))) "
   ]
  },
  {
   "cell_type": "code",
   "execution_count": 78,
   "metadata": {},
   "outputs": [
    {
     "data": {
      "text/plain": [
       "a"
      ]
     },
     "execution_count": 78,
     "metadata": {},
     "output_type": "execute_result"
    }
   ],
   "source": [
    "(switch -1 'a 'b 'c)"
   ]
  },
  {
   "cell_type": "code",
   "execution_count": 48,
   "metadata": {},
   "outputs": [],
   "source": [
    "(define  (switch1 x a b c) ; zapis skrócony - ukryta lambda\n",
    " (cond ((< x 0) a)\n",
    " ((= x 0) b)\n",
    " ((> x 0) c)))"
   ]
  },
  {
   "cell_type": "code",
   "execution_count": 80,
   "metadata": {},
   "outputs": [
    {
     "data": {
      "text/plain": [
       "c"
      ]
     },
     "execution_count": 80,
     "metadata": {},
     "output_type": "execute_result"
    }
   ],
   "source": [
    "(switch1 10 'a 'b 'c)"
   ]
  },
  {
   "cell_type": "code",
   "execution_count": 81,
   "metadata": {},
   "outputs": [
    {
     "data": {
      "text/plain": [
       "b"
      ]
     },
     "execution_count": 81,
     "metadata": {},
     "output_type": "execute_result"
    }
   ],
   "source": [
    "(define (my-cadr x)\n",
    "  (car (cdr x)))\n",
    "\n",
    "(my-cadr '(a b c))"
   ]
  },
  {
   "cell_type": "code",
   "execution_count": 83,
   "metadata": {},
   "outputs": [
    {
     "data": {
      "text/plain": [
       "2"
      ]
     },
     "execution_count": 83,
     "metadata": {},
     "output_type": "execute_result"
    }
   ],
   "source": [
    "(define doubler ;definiowanie procedury z dwoma argumentami\n",
    "  (lambda (f x) (f x x)))\n",
    "\n",
    "(doubler  + 1)"
   ]
  },
  {
   "cell_type": "code",
   "execution_count": 84,
   "metadata": {},
   "outputs": [
    {
     "data": {
      "text/plain": [
       "2"
      ]
     },
     "execution_count": 84,
     "metadata": {},
     "output_type": "execute_result"
    }
   ],
   "source": [
    "(define doubler ; definiowanie procedury z jednym argumentem\n",
    "  (lambda (f)\n",
    "    (lambda (x) (f x x))))\n",
    "\n",
    "((doubler  +) 1)"
   ]
  },
  {
   "cell_type": "markdown",
   "metadata": {},
   "source": [
    "## Zadanie 1\n",
    "\n",
    "Wklej do interpretera każdą linię. Co zostanie wypisane?\n",
    "\n",
    "```scheme\n",
    "10\n",
    "(+ 5 3 4)\n",
    "(- 9 1)\n",
    "(/ 6 2)\n",
    "(+ (* 2 4) (- 4 6))\n",
    "(define a 3)\n",
    "(define b (+ a 1))\n",
    "(+ a b (* a b))\n",
    "(= a b)\n",
    "(> 2 1)\n",
    "(< 1 2 3)\n",
    "(< 2 1 3)\n",
    "#t\n",
    "#f\n",
    "(quotient 3 4)\n",
    "(/ 3 4)\n",
    "(modulo 3 4)\n",
    "(define bla 3)\n",
    "(set! bla (+ bla 1))\n",
    "bla\n",
    "(display 1)\n",
    "(display (/ 3 4))\n",
    "((car (list + - * /)) 2 3)\n",
    "```"
   ]
  },
  {
   "cell_type": "code",
   "execution_count": 46,
   "metadata": {
    "scrolled": true
   },
   "outputs": [
    {
     "name": "stdout",
     "output_type": "stream",
     "text": [
      "13/4"
     ]
    },
    {
     "data": {
      "text/plain": [
       "5"
      ]
     },
     "execution_count": 46,
     "metadata": {},
     "output_type": "execute_result"
    }
   ],
   "source": [
    ";;; BEGIN SOLUTION\n",
    "10\n",
    "(+ 5 3 4)\n",
    "(- 9 1)\n",
    "(/ 6 2)\n",
    "(+ (* 2 4) (- 4 6))\n",
    "(define a 3)\n",
    "(define b (+ a 1))\n",
    "(+ a b (* a b))\n",
    "(= a b)\n",
    "(> 2 1)\n",
    ";(< 1 2 3)\n",
    ";(< 2 1 3)\n",
    "#t\n",
    "#f\n",
    "(quotient 3 4)\n",
    "(/ 3 4)\n",
    "(modulo 3 4)\n",
    "(define bla 3)\n",
    "(set! bla (+ bla 1))\n",
    "bla\n",
    "(display 1)\n",
    "(display (/ 3 4))\n",
    "((car (list + - * /)) 2 3)\n",
    ";;; END SOLUTION"
   ]
  },
  {
   "cell_type": "markdown",
   "metadata": {},
   "source": [
    "## Zadanie 2\n",
    "\n",
    "Oblicz wartość wyrażenia przy pomocy Lisp-a:\n",
    "\n",
    "$${\\frac{5+4+(2-(3-(6+\\frac{4}{3})))}{3(6-2)(2-7)}} $$"
   ]
  },
  {
   "cell_type": "code",
   "execution_count": 86,
   "metadata": {},
   "outputs": [
    {
     "data": {
      "text/plain": [
       "-23/90"
      ]
     },
     "execution_count": 86,
     "metadata": {},
     "output_type": "execute_result"
    }
   ],
   "source": [
    ";;; BEGIN SOLUTION\n",
    "(/ (+(+ 5 4)(- 2 ( - 3(+ 6(/ 4 3))))) (* (* 3 (- 6 2)) (- 2 7)))\n",
    ";;; END SOLUTION"
   ]
  },
  {
   "cell_type": "markdown",
   "metadata": {},
   "source": [
    "## Zadanie 3\n",
    "\n",
    "Napisz funkcję przyjmującą trzy argumenty, zwracającą sumę pierwszego i iloczynu dwóch ostatnich: `(a+b*c)`."
   ]
  },
  {
   "cell_type": "code",
   "execution_count": 48,
   "metadata": {},
   "outputs": [
    {
     "data": {
      "text/plain": [
       "7"
      ]
     },
     "execution_count": 48,
     "metadata": {},
     "output_type": "execute_result"
    }
   ],
   "source": [
    ";;; BEGIN SOLUTION\n",
    "(define fun ( lambda (x y z)\n",
    "              (+ x (* y z))))\n",
    "(fun 1 2 3)\n",
    ";;; END SOLUTION"
   ]
  },
  {
   "cell_type": "markdown",
   "metadata": {},
   "source": [
    "## Zadanie 4\n",
    "\n",
    "Napisz funkcję przyjmującą trzy argumenty, zwracającą sumę kwadratów dwóch największych argumentów. Wykorzystaj procedurę `doubler`."
   ]
  },
  {
   "cell_type": "code",
   "execution_count": 73,
   "metadata": {},
   "outputs": [
    {
     "data": {
      "text/plain": [
       "13"
      ]
     },
     "execution_count": 73,
     "metadata": {},
     "output_type": "execute_result"
    }
   ],
   "source": [
    "(define doubler\n",
    "  (lambda (f)\n",
    "    (lambda (x) (f x x))))\n",
    "\n",
    "(define two-from-three (lambda (x y z)\n",
    "  (if (> x y)\n",
    "      (if (> y z) (list x y) (list x z))\n",
    "      (if (> x z) (list y x) (list y z)))))\n",
    "\n",
    ";;; BEGIN SOLUTION\n",
    "\n",
    "(define fun4 ( lambda (x y z)\n",
    "                (+((doubler *) (car (two-from-three x y z))) ((doubler *) (cadr (two-from-three x y z))))))\n",
    "\n",
    "(fun4 1 2 3)\n",
    "\n",
    ";;; END SOLUTION"
   ]
  },
  {
   "cell_type": "markdown",
   "metadata": {},
   "source": [
    "## Zadanie 5\n",
    "\n",
    "Napisz funkcję która wylicza i wypisuje rozwiązania równania kwadratowego `ax^2+bx+c=0`. Funkcja powinna przyjmować jako argumenty wartości `a`, `b`, `c` oraz `x`. Zakładamy, że zawsze są dwa rozwiązania.\n",
    "\n",
    "Wykorzystaj procedurę `sqrt`."
   ]
  },
  {
   "cell_type": "code",
   "execution_count": 93,
   "metadata": {},
   "outputs": [
    {
     "name": "stdout",
     "output_type": "stream",
     "text": [
      "2.0\n",
      "-3.0"
     ]
    }
   ],
   "source": [
    ";;; BEGIN SOLUTION\n",
    "(define D (lambda (a b c)\n",
    "            (- (* b b) (* 4 a c))))\n",
    "\n",
    "(define fun5 ( lambda (A B C X)\n",
    "               (let ((D (- (* B B) (* 4 A C))))\n",
    "                (display(/ (+ (- B) (sqrt D)) (* 2 A)))(newline)\n",
    "                (display(/ (- (- B) (sqrt D)) (* 2 A))))))\n",
    "                \n",
    "(define x 0)\n",
    "(fun5 2 2 -12 x)\n",
    ";;; END SOLUTION"
   ]
  },
  {
   "cell_type": "markdown",
   "metadata": {},
   "source": [
    "## Scheme: Zmienne związane i niezwiązane - zasięg leksykalny. Prosta rekurencja.\n",
    "\n",
    "### Zmienne (nazwy) lokalne i globalne\n",
    "- znaczenie procedury nie powinno zależeć od nazw parametrów formalnych;\n",
    "- generalna zasada - nazwy parametrów procedur muszą być lokalne w odniesieniu do treści procedury;\n",
    "- nazwy takie nazywamy `zmiennymi związanymi` (ang. `bound variables`) i mówimy, że definicja procedury wiąże swoje parametry formalne;\n",
    "- jeśli zmienna nie jest związana, to mówimy, że jest wolna (ang. `free`);\n",
    "- zmienne związane przez `let` oraz `lambda` nie są widoczne poza ciałem tych wyrażeń;\n",
    "- granice dla których związane zmienne są widoczne nazywa się zakresem (zasięgiem) widoczności;\n",
    "- ten sposób zasięgu określany jest jako zasięg `leksykalny`\n",
    "- zmienne globalne - zastosowanie `define`, definicje takie są widoczne w każdym wyrażeniu poza wyrażeniami, które zostały przesłonięte innymi przypisaniami\n",
    "\n",
    "\n"
   ]
  },
  {
   "cell_type": "code",
   "execution_count": 94,
   "metadata": {},
   "outputs": [
    {
     "data": {
      "text/plain": [
       "(a b)"
      ]
     },
     "execution_count": 94,
     "metadata": {},
     "output_type": "execute_result"
    }
   ],
   "source": [
    "(let ((x 'a))                        ; zmienna x związana z let\n",
    "  (let ((f (lambda (y) (list x y)))) ; zmienna x niezwiązania w wyrażeniu lambda, y związana z lambda\n",
    "    (f 'b)))"
   ]
  },
  {
   "cell_type": "markdown",
   "metadata": {},
   "source": [
    "`Let` pozwala na wiązanie zmiennych tak bardzo lokalnie względem miejsca ich użycia jak tylko jest to możliwe:"
   ]
  },
  {
   "cell_type": "code",
   "execution_count": 95,
   "metadata": {},
   "outputs": [
    {
     "data": {
      "text/plain": [
       "4"
      ]
     },
     "execution_count": 95,
     "metadata": {},
     "output_type": "execute_result"
    }
   ],
   "source": [
    "(let ((x 1))          ; let zewnętrzne - związanie x\n",
    "  (let ((x (+ x 1)))  ; let wewnętrzne - przesłonięcie x \n",
    "    (+ x x)))         ; "
   ]
  },
  {
   "cell_type": "code",
   "execution_count": 96,
   "metadata": {},
   "outputs": [
    {
     "data": {
      "text/plain": [
       "50"
      ]
     },
     "execution_count": 96,
     "metadata": {},
     "output_type": "execute_result"
    }
   ],
   "source": [
    "(define x 6)         ; definicja globalna\n",
    "\n",
    "(+ (let ((x 4))      ; x przesłonięte w let, zmienna związana\n",
    "     (+ x (* x 10))) ; tu x lokalne  \n",
    "   x)                ; tu x = 6 poza let"
   ]
  },
  {
   "cell_type": "code",
   "execution_count": 97,
   "metadata": {},
   "outputs": [
    {
     "data": {
      "text/plain": [
       "14"
      ]
     },
     "execution_count": 97,
     "metadata": {},
     "output_type": "execute_result"
    }
   ],
   "source": [
    "(define x 4)       ; zmienna globalna\n",
    "\n",
    "(let ((x 2) \n",
    "      (y (+ x 3))) ; uwaga! wartość x obliczane poza let,  y = 4 + 3\n",
    "  (* x y))         ; tu x = 2"
   ]
  },
  {
   "cell_type": "code",
   "execution_count": 98,
   "metadata": {},
   "outputs": [
    {
     "data": {
      "text/plain": [
       "10"
      ]
     },
     "execution_count": 98,
     "metadata": {},
     "output_type": "execute_result"
    }
   ],
   "source": [
    "(define x 4)       ; zmienna globalna\n",
    "\n",
    "(let* ((x 2) \n",
    "      (y (+ x 3))) ; do liczenia y brana jest wartość x ustawiona wcześniej let*-em,  y = 2 + 3\n",
    "  (* x y))         ; tu x = 2"
   ]
  },
  {
   "cell_type": "code",
   "execution_count": 99,
   "metadata": {},
   "outputs": [
    {
     "data": {
      "text/plain": [
       "7"
      ]
     },
     "execution_count": 99,
     "metadata": {},
     "output_type": "execute_result"
    }
   ],
   "source": [
    "(let ((a 3)) \n",
    "  (let ((a 4) (b a)) ; uwaga b = 3\n",
    "    (+ a b))         ; a = 4, b = 3\n",
    "  )"
   ]
  },
  {
   "cell_type": "markdown",
   "metadata": {},
   "source": [
    "__Instrukcja `(void)`__\n",
    "\n",
    "Instrukcja pusta."
   ]
  },
  {
   "cell_type": "code",
   "execution_count": 100,
   "metadata": {},
   "outputs": [],
   "source": [
    "(define a 1)(define b 2)(define c 3)\n",
    "(define switch (lambda (x a b c)\n",
    "                 (cond ((< x 0) a)\n",
    "                       ((= x 0) b)\n",
    "                       ((void))))) \n",
    "(switch 10 'a 'b 'c)"
   ]
  },
  {
   "cell_type": "markdown",
   "metadata": {},
   "source": [
    "__Instrukcja `begin`__\n",
    "\n",
    "Instrukcja sekwencji pozwala wykonywać kolejne instrukcje programu umieszczone w bloku `( )`.\n"
   ]
  },
  {
   "cell_type": "code",
   "execution_count": 101,
   "metadata": {},
   "outputs": [
    {
     "name": "stdout",
     "output_type": "stream",
     "text": [
      "a\n",
      "b"
     ]
    }
   ],
   "source": [
    "(begin\n",
    "       (display 'a) \n",
    "       (newline)\n",
    "       (display 'b)\n",
    " )"
   ]
  },
  {
   "cell_type": "markdown",
   "metadata": {},
   "source": [
    "__Prosta rekurencja - pętle__\n",
    "\n",
    "W języku `Scheme` pętle mogą być definiowane tylko poprzez wywołania rekurencyjne.\n",
    "\n",
    "Rekurencja jest prostą koncepcją zastosowania procedury w procedurze.\n",
    "\n",
    "Rekurencyjne procedury powinny mieć co najmniej dwa podstawowe elementy:\n",
    "- przypadek bazowy - kończy rekurencję dając procedurze wartość\n",
    "- krok rekurencyjny - daje wartość (pod względem wartości zastosowanej procedury) do innego argumentu\n"
   ]
  },
  {
   "cell_type": "code",
   "execution_count": 102,
   "metadata": {},
   "outputs": [
    {
     "name": "stdout",
     "output_type": "stream",
     "text": [
      "10\n",
      "9\n",
      "8\n",
      "7\n",
      "6\n",
      "5\n",
      "4\n",
      "3\n",
      "2\n",
      "1\n"
     ]
    }
   ],
   "source": [
    "(define (pokaz n) \n",
    "  (if (< n 1) \n",
    "      (void)              ; przypadek bazowy\n",
    "      (begin \n",
    "       (display n) \n",
    "       (newline) \n",
    "       (pokaz (- n 1)))  ; krok rekurencyjny\n",
    "      )\n",
    "  )\n",
    "\n",
    "(pokaz 10)"
   ]
  },
  {
   "cell_type": "code",
   "execution_count": 103,
   "metadata": {},
   "outputs": [
    {
     "data": {
      "text/plain": [
       "15"
      ]
     },
     "execution_count": 103,
     "metadata": {},
     "output_type": "execute_result"
    }
   ],
   "source": [
    ";; Suma wszystkich elementów listy\n",
    "(define (suma lista) \n",
    "  (cond ((null? lista) 0)                         ; przypadek bazowy\n",
    "        (else (+ (car lista) (suma (cdr lista)))) ; krok rekurencyjny\n",
    "        )\n",
    "  )\n",
    "\n",
    "(suma '(1 2 3 4 5))"
   ]
  },
  {
   "cell_type": "code",
   "execution_count": 104,
   "metadata": {},
   "outputs": [
    {
     "data": {
      "text/plain": [
       "5"
      ]
     },
     "execution_count": 104,
     "metadata": {},
     "output_type": "execute_result"
    }
   ],
   "source": [
    ";; Funkcja obliczająca liczbę elemetów w liście - sprawdź działanie używając trybu Debug w DrRacket\n",
    "(define length. \n",
    "  (lambda (ls) \n",
    "    (if (null? ls) \n",
    "        0                           ; przypadek bazowy\n",
    "        (+ (length. (cdr ls)) 1)))) ; krok rekurencyjny\n",
    "\n",
    "(length. '(1 2 3 4 5))"
   ]
  },
  {
   "cell_type": "code",
   "execution_count": 105,
   "metadata": {},
   "outputs": [],
   "source": [
    ";; Potęgowanie - wykładnik liczba naturalna\n",
    "(define (expt b n) \n",
    "  (if(= n 0)\n",
    "     1 \n",
    "     (* b (expt b (- n 1)))))"
   ]
  },
  {
   "cell_type": "code",
   "execution_count": 106,
   "metadata": {},
   "outputs": [
    {
     "data": {
      "text/plain": [
       "9"
      ]
     },
     "execution_count": 106,
     "metadata": {},
     "output_type": "execute_result"
    }
   ],
   "source": [
    "(expt 3 2)"
   ]
  },
  {
   "cell_type": "code",
   "execution_count": 107,
   "metadata": {},
   "outputs": [],
   "source": [
    "; silnia - wersja rekurencyjna\n",
    "(define (factorial n)\n",
    "  (if (= n 1) \n",
    "      1\n",
    "      (* n (factorial (- n 1)))))"
   ]
  },
  {
   "cell_type": "code",
   "execution_count": 108,
   "metadata": {},
   "outputs": [
    {
     "data": {
      "text/plain": [
       "120"
      ]
     },
     "execution_count": 108,
     "metadata": {},
     "output_type": "execute_result"
    }
   ],
   "source": [
    "(factorial 5)"
   ]
  },
  {
   "cell_type": "code",
   "execution_count": 109,
   "metadata": {},
   "outputs": [],
   "source": [
    "; silnia - wersja iteracyjna\n",
    "(define (factorial n)\n",
    "  (fact-iter 1 1 n))\n",
    "\n",
    "(define (fact-iter wynik licznik max-n)\n",
    "  (if (> licznik max-n) \n",
    "      wynik \n",
    "      (fact-iter \n",
    "       (* licznik wynik)\n",
    "       (+ licznik 1)\n",
    "       max-n)))"
   ]
  },
  {
   "cell_type": "code",
   "execution_count": 110,
   "metadata": {},
   "outputs": [
    {
     "data": {
      "text/plain": [
       "120"
      ]
     },
     "execution_count": 110,
     "metadata": {},
     "output_type": "execute_result"
    }
   ],
   "source": [
    "(factorial 5)"
   ]
  },
  {
   "cell_type": "markdown",
   "metadata": {},
   "source": [
    "## Zadanie 6\n",
    "\n",
    "Napisz funkcję przyjmującą rok (liczbę całkowitą) jako argument, zwracającą `#`t jeśli podany rok jest przestępny, `#f` w przeciwnym razie. \n",
    "\n",
    "Rok jest przestępny, jeśli jest podzielny przez 4 ale nie przez 100, lub jest podzielny przez 400."
   ]
  },
  {
   "cell_type": "code",
   "execution_count": 135,
   "metadata": {},
   "outputs": [
    {
     "data": {
      "text/plain": [
       "#t"
      ]
     },
     "execution_count": 135,
     "metadata": {},
     "output_type": "execute_result"
    }
   ],
   "source": [
    ";;; BEGIN SOLUTION\n",
    "(define (fun6 year)\n",
    "    (or (if (= 0 (modulo year 4))\n",
    "      (if (= 0 (modulo year 100)) #f #t))\n",
    "    (if (= 0 (modulo year 400)) #t #f))\n",
    "  )\n",
    "\n",
    "(fun6 1952)\n",
    ";;; END SOLUTION"
   ]
  },
  {
   "cell_type": "markdown",
   "metadata": {},
   "source": [
    "## Zadanie 7\n",
    "\n",
    "Napisz funkcję liczącą pierwiastek kwadratowy metodą Newtona.\n",
    "\n",
    "https://mitpress.mit.edu/sites/default/files/sicp/full-text/book/book-Z-H-10.html#%_sec_1.1.7"
   ]
  },
  {
   "cell_type": "code",
   "execution_count": 137,
   "metadata": {},
   "outputs": [
    {
     "data": {
      "text/plain": [
       "3.00009155413138"
      ]
     },
     "execution_count": 137,
     "metadata": {},
     "output_type": "execute_result"
    }
   ],
   "source": [
    ";;; BEGIN SOLUTION\n",
    "(define (good-enough? guess x)\n",
    "  (< (abs (- (* guess guess) x)) 0.001))\n",
    "\n",
    "(define (average x y)\n",
    "  (/ (+ x y) 2))\n",
    "\n",
    "(define (improve guess x)\n",
    "  (average guess (/ x guess)))\n",
    "\n",
    "(define (sqrt-iter guess x)\n",
    "  (if (good-enough? guess x)\n",
    "      guess\n",
    "      (sqrt-iter (improve guess x)\n",
    "                 x)))\n",
    "(define (sqrt-New x)\n",
    "  (sqrt-iter 1.0 x))\n",
    "(sqrt-New 9)\n",
    "\n",
    ";;; END SOLUTION"
   ]
  },
  {
   "cell_type": "markdown",
   "metadata": {},
   "source": [
    "## Zadanie 8\n",
    "\n",
    "Zmodyfikuj funkcję z zadania 2, wstawiając definicje wszystkich funkcji pomocniczych do funkcji liczącej pierwiastek.\n",
    "\n",
    "https://mitpress.mit.edu/sites/default/files/sicp/full-text/book/book-Z-H-10.html#%_sec_1.1.8"
   ]
  },
  {
   "cell_type": "code",
   "execution_count": 141,
   "metadata": {},
   "outputs": [
    {
     "data": {
      "text/plain": [
       "3.00009155413138"
      ]
     },
     "execution_count": 141,
     "metadata": {},
     "output_type": "execute_result"
    }
   ],
   "source": [
    ";;; BEGIN SOLUTION\n",
    "(define (sqrt x)\n",
    "  (begin\n",
    "  (define (good-enough? guess)\n",
    "    (< (abs (- (square guess) x)) 0.001))\n",
    "  (define (improve guess)\n",
    "    (average guess (/ x guess)))\n",
    "  (define (sqrt-iter guess)\n",
    "    (if (good-enough? guess)\n",
    "        guess\n",
    "        (sqrt-iter (improve guess))))\n",
    "  (sqrt-iter 1.0 x)))\n",
    "\n",
    "(sqrt 9)\n",
    "\n",
    ";;; END SOLUTION"
   ]
  },
  {
   "cell_type": "markdown",
   "metadata": {},
   "source": [
    "## Zadanie 9\n",
    "\n",
    "Funkcje zdefiniowane w ciele innej funkcji mają dostęp do zmiennych tej funkcji. Wiedząc to, zmodyfikuj funkcję z zadania 3., usuwając zbędne argumenty z funkcji zagnieżdżonych."
   ]
  },
  {
   "cell_type": "code",
   "execution_count": null,
   "metadata": {},
   "outputs": [],
   "source": [
    ";;; BEGIN SOLUTION\n",
    "(define fun ( lambda (x y z)\n",
    "              (+ x (* y z))))\n",
    "(fun 1 2 3)\n",
    "\n",
    ";;; END SOLUTION"
   ]
  },
  {
   "cell_type": "markdown",
   "metadata": {},
   "source": [
    "## Zadanie 10\n",
    "\n",
    "Wykorzystując wiedzę zdobytą w trakcie wykonywania zadań 7-9, napisz funkcję liczącą pierwiastek trzeciego stopnia metodą Newtona.\n",
    "\n",
    "https://mitpress.mit.edu/sites/default/files/sicp/full-text/book/book-Z-H-10.html#%_thm_1.8\n",
    "\n",
    "https://pl.wikipedia.org/wiki/Algorytm_obliczania_pierwiastka_n-tego_stopnia"
   ]
  },
  {
   "cell_type": "code",
   "execution_count": null,
   "metadata": {},
   "outputs": [],
   "source": [
    ";;; BEGIN SOLUTION\n",
    "\n",
    "\n",
    ";;; END SOLUTION"
   ]
  },
  {
   "cell_type": "markdown",
   "metadata": {},
   "source": [
    "## Zadanie 11\n",
    "\n",
    "Napisz funkcję liczącą największy wspólny dzielnik dwóch liczb całkowitych. Wykorzystaj procedurę `remainder`.\n",
    "\n",
    "```scheme\n",
    "    (remainder liczba1 liczba2) ; zwraca resztę z dzielenia  liczba1 przez liczba 2\n",
    "```\n",
    "Algorytm Euklidesa.\n",
    "- Jeśli `r` jest resztą z dzielenia `a` przez `b`, to wspólne dzielniki `a` i `b` są dokładnie takie same jak wspólne dzielniki `b` i `r`, tzn., że     `NWD(a,b) = NWD(b,r)`\n"
   ]
  },
  {
   "cell_type": "code",
   "execution_count": null,
   "metadata": {},
   "outputs": [],
   "source": [
    ";;; BEGIN SOLUTION\n",
    "\n",
    "\n",
    ";;; END SOLUTION"
   ]
  },
  {
   "cell_type": "markdown",
   "metadata": {},
   "source": [
    "## Zadanie 12\n",
    "\n",
    "Napisz funkcję `f` przyjmującą dwa argumenty `n` oraz `k`, liczącą wartość funkcji danej wzorem:\n",
    "\n",
    "$$\n",
    "f(n,k) = \\left\\{ \\begin{array}{11}\n",
    "k & \\textrm{n=0} \\\\\n",
    "k+1 & \\textrm{n=1} \\\\\n",
    "f(n-1,k)-f(n-2,k) & \\textrm{n>1}\n",
    "\\end{array} \\right.\n",
    "$$"
   ]
  },
  {
   "cell_type": "code",
   "execution_count": null,
   "metadata": {},
   "outputs": [],
   "source": [
    ";;; BEGIN SOLUTION\n",
    "\n",
    "\n",
    ";;; END SOLUTION"
   ]
  },
  {
   "cell_type": "markdown",
   "metadata": {},
   "source": [
    "## Zadanie 13\n",
    "\n",
    "Napisz funkcję wypisującą pasek postępu. Funkcja jako argument powinna przyjmować długość paska w znakach (liczba pionowych kresek pomiędzy `[` i `]` ). Wykorzystaj rekurencję.\n",
    "\n",
    "`\n",
    "(progress 8)\n",
    "[        ]\n",
    "[|       ]\n",
    "[||      ]\n",
    "[|||     ]\n",
    "[||||    ]\n",
    "[|||||   ]\n",
    "[||||||  ]\n",
    "[||||||| ]\n",
    "[||||||||]\n",
    "`"
   ]
  },
  {
   "cell_type": "code",
   "execution_count": null,
   "metadata": {},
   "outputs": [],
   "source": [
    ";;; BEGIN SOLUTION\n",
    "\n",
    "\n",
    ";;; END SOLUTION"
   ]
  },
  {
   "cell_type": "code",
   "execution_count": null,
   "metadata": {},
   "outputs": [],
   "source": []
  }
 ],
 "metadata": {
  "kernelspec": {
   "display_name": "Calysto Scheme 3",
   "language": "scheme",
   "name": "calysto_scheme"
  },
  "language_info": {
   "codemirror_mode": {
    "name": "scheme"
   },
   "mimetype": "text/x-scheme",
   "name": "scheme",
   "pygments_lexer": "scheme"
  }
 },
 "nbformat": 4,
 "nbformat_minor": 4
}
